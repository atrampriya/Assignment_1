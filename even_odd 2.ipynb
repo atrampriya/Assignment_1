{
 "cells": [
  {
   "cell_type": "code",
   "execution_count": 1,
   "id": "af332a24",
   "metadata": {},
   "outputs": [
    {
     "name": "stdout",
     "output_type": "stream",
     "text": [
      "Enter the number of elments: 9\n",
      "1\n",
      "2\n",
      "3\n",
      "4\n",
      "5\n",
      "6\n",
      "7\n",
      "8\n",
      "9\n",
      "['1', '2', '3', '4', '5', '6', '7', '8', '9']\n",
      "Number of even numbers in a: 5\n",
      "Number of odd numbers in a: 4\n"
     ]
    }
   ],
   "source": [
    "n = int(input(\"Enter the number of elments: \"))\n",
    "l= []\n",
    "for i in range(n):\n",
    "    l.append(input())\n",
    "print(l)\n",
    "even_count, odd_count = 0,0\n",
    "for i in range(n):\n",
    "    if i%2 == 0:\n",
    "        even_count +=1\n",
    "    else:\n",
    "        odd_count +=1\n",
    "print(\"Number of even numbers in a:\",even_count)\n",
    "print(\"Number of odd numbers in a:\",odd_count)"
   ]
  }
 ],
 "metadata": {
  "kernelspec": {
   "display_name": "Python 3 (ipykernel)",
   "language": "python",
   "name": "python3"
  },
  "language_info": {
   "codemirror_mode": {
    "name": "ipython",
    "version": 3
   },
   "file_extension": ".py",
   "mimetype": "text/x-python",
   "name": "python",
   "nbconvert_exporter": "python",
   "pygments_lexer": "ipython3",
   "version": "3.10.2"
  }
 },
 "nbformat": 4,
 "nbformat_minor": 5
}
