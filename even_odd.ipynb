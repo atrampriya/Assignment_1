{
 "cells": [
  {
   "cell_type": "code",
   "execution_count": 2,
   "id": "d61e2668",
   "metadata": {},
   "outputs": [
    {
     "name": "stdout",
     "output_type": "stream",
     "text": [
      "Number of even numbers in l: 4\n",
      "Number of odd numbers in l: 5\n"
     ]
    }
   ],
   "source": [
    "l =[1,2,3,4,5,6,7,8,9]\n",
    "even_count, odd_count = 0,0\n",
    "for num in l:\n",
    "    if num%2 == 0:\n",
    "        even_count +=1\n",
    "    else:\n",
    "        odd_count +=1\n",
    "print(\"Number of even numbers in l:\",even_count)\n",
    "print(\"Number of odd numbers in l:\",odd_count)"
   ]
  }
 ],
 "metadata": {
  "kernelspec": {
   "display_name": "Python 3 (ipykernel)",
   "language": "python",
   "name": "python3"
  },
  "language_info": {
   "codemirror_mode": {
    "name": "ipython",
    "version": 3
   },
   "file_extension": ".py",
   "mimetype": "text/x-python",
   "name": "python",
   "nbconvert_exporter": "python",
   "pygments_lexer": "ipython3",
   "version": "3.10.2"
  }
 },
 "nbformat": 4,
 "nbformat_minor": 5
}
